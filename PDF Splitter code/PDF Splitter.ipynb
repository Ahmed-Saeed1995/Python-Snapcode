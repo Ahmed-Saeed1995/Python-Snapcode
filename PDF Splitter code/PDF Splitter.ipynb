{
 "cells": [
  {
   "cell_type": "code",
   "execution_count": 1,
   "metadata": {},
   "outputs": [],
   "source": [
    "from pikepdf import Pdf"
   ]
  },
  {
   "cell_type": "code",
   "execution_count": null,
   "metadata": {},
   "outputs": [
    {
     "name": "stdout",
     "output_type": "stream",
     "text": [
      "The file first split.pdf ranges page from 1 to 2\n"
     ]
    }
   ],
   "source": [
    "BlankFile = Pdf.new()\n",
    "\n",
    "filename = \"first split.pdf\"\n",
    "OriginalFile = Pdf.open(filename)\n",
    "\n",
    "print(f\"The file {filename} ranges page from 1 to {len(OriginalFile._pages)}\")\n",
    "FirstPage = int(input(\"First Page: \"))\n",
    "SecondPage = int(input(\"Second Page: \"))\n",
    "OutputFile = input(\"Your file name \") + \".pdf\"\n",
    "\n",
    "for page in list(OriginalFile.pages)[FirstPage-1: SecondPage]:\n",
    "    BlankFile.pages.append(page)\n",
    "    BlankFile.save(OutputFile)"
   ]
  },
  {
   "cell_type": "code",
   "execution_count": null,
   "metadata": {},
   "outputs": [],
   "source": []
  }
 ],
 "metadata": {
  "kernelspec": {
   "display_name": "Python 3",
   "language": "python",
   "name": "python3"
  },
  "language_info": {
   "codemirror_mode": {
    "name": "ipython",
    "version": 3
   },
   "file_extension": ".py",
   "mimetype": "text/x-python",
   "name": "python",
   "nbconvert_exporter": "python",
   "pygments_lexer": "ipython3",
   "version": "3.7.6"
  }
 },
 "nbformat": 4,
 "nbformat_minor": 4
}
