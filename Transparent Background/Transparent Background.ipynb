{
 "cells": [
  {
   "cell_type": "code",
   "execution_count": 1,
   "metadata": {},
   "outputs": [],
   "source": [
    "from PIL import Image"
   ]
  },
  {
   "cell_type": "code",
   "execution_count": 13,
   "metadata": {},
   "outputs": [],
   "source": [
    "image = Image.open('power-station-374097_640.jpg')\n",
    "\n",
    "if image.mode != \"RGBA\":\n",
    "    image = image.convert('RGBA')\n",
    "    \n",
    "image_data = image.getdata()\n",
    "\n",
    "new_image_data = []\n",
    "for item in image_data:\n",
    "    r, g, b, a = item # Unpacking\n",
    "    new_image_data.append((r, g, b, 70)) # Transparent background 0 - 255\n",
    "    \n",
    "image.putdata(new_image_data)\n",
    "\n",
    "image.save('output2.png')"
   ]
  },
  {
   "cell_type": "code",
   "execution_count": null,
   "metadata": {},
   "outputs": [],
   "source": []
  }
 ],
 "metadata": {
  "kernelspec": {
   "display_name": "Python 3",
   "language": "python",
   "name": "python3"
  },
  "language_info": {
   "codemirror_mode": {
    "name": "ipython",
    "version": 3
   },
   "file_extension": ".py",
   "mimetype": "text/x-python",
   "name": "python",
   "nbconvert_exporter": "python",
   "pygments_lexer": "ipython3",
   "version": "3.7.6"
  }
 },
 "nbformat": 4,
 "nbformat_minor": 4
}
