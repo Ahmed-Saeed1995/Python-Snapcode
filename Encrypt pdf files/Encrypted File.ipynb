{
 "cells": [
  {
   "cell_type": "code",
   "execution_count": 1,
   "metadata": {},
   "outputs": [],
   "source": [
    "import pypdf"
   ]
  },
  {
   "cell_type": "code",
   "execution_count": 6,
   "metadata": {},
   "outputs": [],
   "source": [
    "Physics = pypdf.PdfReader(\"Physics.pdf\")\n",
    "\n",
    "\n",
    "Writer = pypdf.PdfWriter()\n",
    "Writer.append_pages_from_reader(Physics)\n",
    "Writer.encrypt(user_password = \"0123456789\")"
   ]
  },
  {
   "cell_type": "code",
   "execution_count": 7,
   "metadata": {},
   "outputs": [],
   "source": [
    "with open(\"EncryptedFile.pdf\", \"wb\") as Output:\n",
    "    Writer.write(Output)"
   ]
  },
  {
   "cell_type": "markdown",
   "metadata": {},
   "source": [
    "### Try to extract text"
   ]
  },
  {
   "cell_type": "code",
   "execution_count": 16,
   "metadata": {},
   "outputs": [
    {
     "data": {
      "text/plain": [
       "<pypdf._page._VirtualList at 0x15eb8b364c8>"
      ]
     },
     "execution_count": 16,
     "metadata": {},
     "output_type": "execute_result"
    }
   ],
   "source": [
    "EncryptedFile = pypdf.PdfReader(\"EncryptedFile.pdf\", password=\"0123456789\")\n",
    "\n",
    "EncryptedFile.pages"
   ]
  },
  {
   "cell_type": "code",
   "execution_count": 13,
   "metadata": {},
   "outputs": [
    {
     "data": {
      "text/plain": [
       "25"
      ]
     },
     "execution_count": 13,
     "metadata": {},
     "output_type": "execute_result"
    }
   ],
   "source": [
    "len(EncryptedFile.pages)"
   ]
  },
  {
   "cell_type": "code",
   "execution_count": 14,
   "metadata": {},
   "outputs": [
    {
     "data": {
      "text/plain": [
       "'Various examples of physical phenomenaPhysics\\nPhysics is the natural science that studies matter,[a] its\\nfunda mental constituents, its motion and behavior\\nthrough space and time, and the related entities of\\nenergy and force.[2] Physics is one of the most\\nfunda mental scientific disciplines, and its main goal is\\nto unde rstand how  the universe behaves.[b][3][4][5]\\nPhysics is one of the oldest academic disciplines and,\\nthrough its inclusion of astronom y, perhaps the\\noldest.[6] Over much of the past two millennia,\\nphysics, chemistry, biology, and certain branches of\\nmathematics were a part of natural philosophy , but\\nduring the Scientific Revolution in the 17th century\\nthese natural sciences emerged as unique research\\nendeavors in their own right.[c] Physics intersects with\\nmany interdisciplinary areas of research, such as biophys ics and quantum chemistry, and the bounda ries of\\nphysics are not rigidly defined. New ideas in physics often explain the funda mental mechanisms studied by\\nother sciences[3] and sugge st new avenues of research in academic disciplines such as mathematics and\\nphilosophy .\\nAdvances in physics often enable advances in new technologies. For example, advances in the\\nunde rstanding of  electromagnetism, solid-state phys ics, and nuclear phys ics led directly to the development\\nof new produc ts that have dramatically transformed modern-day society, such as television, computers,\\ndomestic appliances, and nuclear weapons;[3] advances in thermodyna mics led to the development of\\nindustrialization; and advances in mechanics inspired the development of calculus.\\nHistory\\nAncient astronomy\\nNatural philosophy\\nMedieval European and Islamic\\nClassical\\nModern\\nPhilosophy\\nCore theories\\nClassical\\nModern\\nFundamental concepts in modern physics\\nDifference\\nRelation to other fieldsContents'"
      ]
     },
     "execution_count": 14,
     "metadata": {},
     "output_type": "execute_result"
    }
   ],
   "source": [
    "EncryptedFile.pages[0].extract_text()"
   ]
  },
  {
   "cell_type": "markdown",
   "metadata": {},
   "source": [
    "# 2"
   ]
  },
  {
   "cell_type": "code",
   "execution_count": 63,
   "metadata": {},
   "outputs": [],
   "source": [
    "import pikepdf\n",
    "\n",
    "File = pikepdf.Pdf.open(\"EncryptedFile2.pdf\", password=\"0123\")"
   ]
  },
  {
   "cell_type": "code",
   "execution_count": 23,
   "metadata": {},
   "outputs": [],
   "source": [
    "Physics2 = pikepdf.Pdf.open(\"Physics.pdf\")"
   ]
  },
  {
   "cell_type": "code",
   "execution_count": 56,
   "metadata": {},
   "outputs": [
    {
     "data": {
      "text/plain": [
       "Encryption(owner='', user='0123', R=6, allow=Permissions(accessibility=True, extract=True, modify_annotation=True, modify_assembly=False, modify_form=True, modify_other=True, print_lowres=True, print_highres=True), aes=True, metadata=True)"
      ]
     },
     "execution_count": 56,
     "metadata": {},
     "output_type": "execute_result"
    }
   ],
   "source": [
    "Encrypt = pikepdf.Encryption(user = \"0123\")\n",
    "Encrypt"
   ]
  },
  {
   "cell_type": "code",
   "execution_count": 57,
   "metadata": {},
   "outputs": [],
   "source": [
    "Physics2.save(\"EncryptedFile2.pdf\", encryption = Encrypt)"
   ]
  },
  {
   "cell_type": "code",
   "execution_count": 64,
   "metadata": {},
   "outputs": [
    {
     "data": {
      "text/plain": [
       "True"
      ]
     },
     "execution_count": 64,
     "metadata": {},
     "output_type": "execute_result"
    }
   ],
   "source": [
    "File.is_encrypted"
   ]
  },
  {
   "cell_type": "code",
   "execution_count": 65,
   "metadata": {},
   "outputs": [
    {
     "data": {
      "text/plain": [
       "{'R': 6,\n",
       " 'P': -1028,\n",
       " 'V': 5,\n",
       " 'stream': <EncryptionMethod.aesv3: 4>,\n",
       " 'string': <EncryptionMethod.aesv3: 4>,\n",
       " 'file': <EncryptionMethod.aesv3: 4>,\n",
       " 'user_passwd': b'0123',\n",
       " 'encryption_key': b'\\x95b\\x1c/\\x92\\xa0\\x1d4\\xfd0\\x81!\\x15@\\xf1\\x10T\\xa7v\\x95\\xc0\\x8az\\xc4\\xbaP!\\x8b*E\\xdc)'}"
      ]
     },
     "execution_count": 65,
     "metadata": {},
     "output_type": "execute_result"
    }
   ],
   "source": [
    "File._encryption_data"
   ]
  },
  {
   "cell_type": "code",
   "execution_count": 66,
   "metadata": {},
   "outputs": [
    {
     "data": {
      "text/plain": [
       "True"
      ]
     },
     "execution_count": 66,
     "metadata": {},
     "output_type": "execute_result"
    }
   ],
   "source": [
    "File.user_password_matched"
   ]
  },
  {
   "cell_type": "code",
   "execution_count": 67,
   "metadata": {},
   "outputs": [
    {
     "data": {
      "text/plain": [
       "False"
      ]
     },
     "execution_count": 67,
     "metadata": {},
     "output_type": "execute_result"
    }
   ],
   "source": [
    "File.owner_password_matched"
   ]
  },
  {
   "cell_type": "markdown",
   "metadata": {},
   "source": [
    "# 3"
   ]
  },
  {
   "cell_type": "code",
   "execution_count": 40,
   "metadata": {},
   "outputs": [],
   "source": [
    "import pypdf"
   ]
  },
  {
   "cell_type": "code",
   "execution_count": 41,
   "metadata": {},
   "outputs": [],
   "source": [
    "file = pypdf.PdfReader(\"Physics.pdf\")"
   ]
  },
  {
   "cell_type": "code",
   "execution_count": 43,
   "metadata": {},
   "outputs": [],
   "source": [
    "writer = pypdf.PdfWriter()"
   ]
  },
  {
   "cell_type": "code",
   "execution_count": 44,
   "metadata": {},
   "outputs": [],
   "source": [
    "for page in file.pages:\n",
    "    writer.add_page(page)"
   ]
  },
  {
   "cell_type": "code",
   "execution_count": 47,
   "metadata": {},
   "outputs": [],
   "source": [
    "writer.encrypt(user_password =\"Pass0123456\" ,owner_password = \"Secret\")\n",
    "\n",
    "with open(\"Encrpted.pdf\", \"wb\") as Output:\n",
    "    writer.write(Output)"
   ]
  }
 ],
 "metadata": {
  "kernelspec": {
   "display_name": "Python 3",
   "language": "python",
   "name": "python3"
  },
  "language_info": {
   "codemirror_mode": {
    "name": "ipython",
    "version": 3
   },
   "file_extension": ".py",
   "mimetype": "text/x-python",
   "name": "python",
   "nbconvert_exporter": "python",
   "pygments_lexer": "ipython3",
   "version": "3.7.6"
  }
 },
 "nbformat": 4,
 "nbformat_minor": 4
}
