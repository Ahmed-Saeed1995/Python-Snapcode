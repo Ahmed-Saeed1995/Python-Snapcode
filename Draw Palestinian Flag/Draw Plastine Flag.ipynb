{
 "cells": [
  {
   "cell_type": "code",
   "execution_count": 1,
   "metadata": {},
   "outputs": [],
   "source": [
    "from PIL import Image, ImageDraw"
   ]
  },
  {
   "cell_type": "code",
   "execution_count": 41,
   "metadata": {},
   "outputs": [],
   "source": [
    "width, height = 2*300, 2*200"
   ]
  },
  {
   "cell_type": "code",
   "execution_count": 42,
   "metadata": {},
   "outputs": [],
   "source": [
    "flag = Image.new(\"RGBA\", (width, height), (255, 255, 255, 0))"
   ]
  },
  {
   "cell_type": "code",
   "execution_count": 43,
   "metadata": {},
   "outputs": [],
   "source": [
    "draw = ImageDraw.Draw(flag)"
   ]
  },
  {
   "cell_type": "code",
   "execution_count": 44,
   "metadata": {},
   "outputs": [],
   "source": [
    "black = (0, 0, 0) # 0-255\n",
    "white = (255, 255, 255)\n",
    "green = (0, 128, 0)\n",
    "red = (255, 0, 0)"
   ]
  },
  {
   "cell_type": "code",
   "execution_count": 45,
   "metadata": {},
   "outputs": [],
   "source": [
    "strips_height = height // 3\n",
    "\n",
    "draw.rectangle([0, 0, width, strips_height], fill = black)\n",
    "draw.rectangle([0, strips_height, width, 2 * strips_height], fill = white)\n",
    "draw.rectangle([0, 2 * strips_height, width, height], fill = green)\n",
    "\n",
    "triangle_ploints = [(0, 0), (0, height), (2*100, 2*100)]\n",
    "draw.polygon(triangle_ploints, fill = red)\n",
    "\n",
    "flag.save('Plastine.png')"
   ]
  },
  {
   "cell_type": "code",
   "execution_count": 34,
   "metadata": {},
   "outputs": [],
   "source": [
    "flag.show()"
   ]
  }
 ],
 "metadata": {
  "kernelspec": {
   "display_name": "Python 3",
   "language": "python",
   "name": "python3"
  },
  "language_info": {
   "codemirror_mode": {
    "name": "ipython",
    "version": 3
   },
   "file_extension": ".py",
   "mimetype": "text/x-python",
   "name": "python",
   "nbconvert_exporter": "python",
   "pygments_lexer": "ipython3",
   "version": "3.7.6"
  }
 },
 "nbformat": 4,
 "nbformat_minor": 4
}
