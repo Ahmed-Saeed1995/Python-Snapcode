{
 "cells": [
  {
   "cell_type": "code",
   "execution_count": 1,
   "metadata": {},
   "outputs": [],
   "source": [
    "from PyPDF2 import PdfReader"
   ]
  },
  {
   "cell_type": "code",
   "execution_count": 3,
   "metadata": {},
   "outputs": [],
   "source": [
    "Cpp = PdfReader(\"Microsoft C++.pdf\")"
   ]
  },
  {
   "cell_type": "code",
   "execution_count": 4,
   "metadata": {},
   "outputs": [
    {
     "data": {
      "text/plain": [
       "966"
      ]
     },
     "execution_count": 4,
     "metadata": {},
     "output_type": "execute_result"
    }
   ],
   "source": [
    "len(Cpp.pages)"
   ]
  },
  {
   "cell_type": "code",
   "execution_count": 6,
   "metadata": {},
   "outputs": [
    {
     "data": {
      "text/plain": [
       "'Contents\\nContents\\n \\nC++ language documentation\\n \\nC++ language reference\\n \\nC++ language reference\\n \\nWelcome back to C++ (Modern C++)\\n \\nLexical conventions\\n \\nLexical conventions\\n \\nTokens and character sets\\n \\nComments\\n \\nIdentifiers\\n \\nKeywords\\n \\nPunctuators\\n \\nNumeric, boolean, and pointer literals\\n \\nString and character literals\\n \\nUser-defined literals\\n \\nBasic concepts\\n \\nBasic concepts\\n \\nC++ type system\\n \\nScope\\n \\nHeader files\\n \\nTranslation units and linkage\\n \\nmain function and command-line arguments\\n \\nProgram termination\\n \\nLvalues and rvalues\\n \\nTemporary objects\\n \\nAlignment\\n \\nTrivial, standard-layout, and POD types\\n \\nValue types\\n \\nType conversions and type safety\\n \\nStandard conversions'"
      ]
     },
     "execution_count": 6,
     "metadata": {},
     "output_type": "execute_result"
    }
   ],
   "source": [
    "Cpp.pages[0].extract_text()"
   ]
  },
  {
   "cell_type": "code",
   "execution_count": 7,
   "metadata": {},
   "outputs": [
    {
     "name": "stdout",
     "output_type": "stream",
     "text": [
      "Contents\n",
      "Contents\n",
      " \n",
      "C++ language documentation\n",
      " \n",
      "C++ language reference\n",
      " \n",
      "C++ language reference\n",
      " \n",
      "Welcome back to C++ (Modern C++)\n",
      " \n",
      "Lexical conventions\n",
      " \n",
      "Lexical conventions\n",
      " \n",
      "Tokens and character sets\n",
      " \n",
      "Comments\n",
      " \n",
      "Identifiers\n",
      " \n",
      "Keywords\n",
      " \n",
      "Punctuators\n",
      " \n",
      "Numeric, boolean, and pointer literals\n",
      " \n",
      "String and character literals\n",
      " \n",
      "User-defined literals\n",
      " \n",
      "Basic concepts\n",
      " \n",
      "Basic concepts\n",
      " \n",
      "C++ type system\n",
      " \n",
      "Scope\n",
      " \n",
      "Header files\n",
      " \n",
      "Translation units and linkage\n",
      " \n",
      "main function and command-line arguments\n",
      " \n",
      "Program termination\n",
      " \n",
      "Lvalues and rvalues\n",
      " \n",
      "Temporary objects\n",
      " \n",
      "Alignment\n",
      " \n",
      "Trivial, standard-layout, and POD types\n",
      " \n",
      "Value types\n",
      " \n",
      "Type conversions and type safety\n",
      " \n",
      "Standard conversions\n"
     ]
    }
   ],
   "source": [
    "print(Cpp.pages[0].extract_text())"
   ]
  },
  {
   "cell_type": "code",
   "execution_count": 8,
   "metadata": {},
   "outputs": [],
   "source": [
    "with open(\"CppText.txt\", \"a+\") as file:\n",
    "    file.write(f\"{Cpp.pages[0].extract_text()}\")"
   ]
  },
  {
   "cell_type": "code",
   "execution_count": 9,
   "metadata": {},
   "outputs": [],
   "source": [
    "Physics = PdfReader(\"Physics.pdf\")"
   ]
  },
  {
   "cell_type": "code",
   "execution_count": 10,
   "metadata": {},
   "outputs": [
    {
     "data": {
      "text/plain": [
       "25"
      ]
     },
     "execution_count": 10,
     "metadata": {},
     "output_type": "execute_result"
    }
   ],
   "source": [
    "len(Physics.pages)"
   ]
  },
  {
   "cell_type": "code",
   "execution_count": 13,
   "metadata": {},
   "outputs": [
    {
     "data": {
      "text/plain": [
       "\"Ibn al-Haytham (c. 965–c.\\n1040), Book of Optics Book\\nI, [6.85], [6.86]. Book II,\\n[3.80] describes his camera\\nobscura experiments.[18]Natural philosophy  has its origins in Greece during the Archaic period (650 BCE – 480 BCE), when pre-\\nSocratic philosophe rs like Thales rejected non-naturalistic explanations for natural phenomena and\\nproclaimed that every event had a natural cause.[14] They proposed ideas verified by reason and\\nobservation, and many of their hypot heses proved successful in experiment;[15] for example, atomism was\\nfound to be correct approximately 2000 years after it was proposed by Leucippus and his pupil\\nDemocritus.[16]\\nThe Western Roman Empire fell in the fifth century, and this resulted in a decline in intellectual pursuits in\\nthe western part of Europe. By contrast, the Eastern Roman Empire (also know n as the Byzantine Empire)\\nresisted the attacks from the barbarians, and continued to advance various fields of learning, including\\nphysics.[17]\\nIn the sixth century, Isidore of Miletus created an important compilation of Archimedes' works that are\\ncopied in the Archimedes Palimpsest.\\nIn sixth-century Europe John Philoponus , a Byzantine scholar, questioned\\nAristotle's teaching of physics and noted its flaws. He introduc ed the\\ntheory of impetus. Aristotle's physics was not scrutinized until Philoponus\\nappeared; unlike Aristotle, who based his physics on verbal argument,\\nPhiloponus  relied on obs ervation. O n Aristotle's phys ics Philoponus  wrote:\\nBut this is completely erroneous, and our view may be\\ncorroborated by actual observation more effectively than by\\nany sort of verbal argument. For if you let fall from the same\\nheight two weights of which one is many times as heavy as\\nthe other, you will see that the ratio of the times required for\\nthe motion does not depend on the ratio of the weights, but\\nthat the difference in time is a very small one. And so, if the\\ndifference in the weights is not considerable, that is, of one is,\\nlet us say, doubl e the other, there will be no difference, or else\\nan imperceptible difference, in time, though the difference in\\nweight is by no means negligible, with one body weighing\\ntwice as much as the other[19]\\nPhiloponus ' criticism of Aristotelian principles of physics served as an inspiration for Galileo Galilei ten\\ncenturies later,[20] during the Scientific Revolution. Galileo cited Philoponus  substantially in his works\\nwhen arguing that Aristotelian physics was flawed.[21][22] In the 1300s  Jean Buridan, a teacher in the\\nfaculty of arts at the University of Paris, developed the concept of impetus. It was a step toward the modern\\nideas of inertia and m omentum.[23]\\nIslamic scholarship inherited Aristotelian physics from the Greeks and during the Islamic Golden Age\\ndeveloped it further, especially placing emphasis on observation and a priori reasoning, developing early\\nforms of the scientific method.\\nThe most notable innova tions were in the field of optics and vision, which came from the works of many\\nscientists like Ibn Sahl, Al-Kindi, Ibn al-Haytham, Al-Farisi and Avicenna. The most notable work was\\nThe Book of Optics (also know n as Kitāb al-Manā ẓ ir), written by Ibn al-Haytham, in which he\\nconclusively disproved the ancient Greek idea about vision, but also came up with a new theory. In theMedieval European and Islamic\""
      ]
     },
     "execution_count": 13,
     "metadata": {},
     "output_type": "execute_result"
    }
   ],
   "source": [
    "Physics.pages[2].extract_text()"
   ]
  },
  {
   "cell_type": "code",
   "execution_count": 14,
   "metadata": {},
   "outputs": [
    {
     "name": "stdout",
     "output_type": "stream",
     "text": [
      "Ibn al-Haytham (c. 965–c.\n",
      "1040), Book of Optics Book\n",
      "I, [6.85], [6.86]. Book II,\n",
      "[3.80] describes his camera\n",
      "obscura experiments.[18]Natural philosophy  has its origins in Greece during the Archaic period (650 BCE – 480 BCE), when pre-\n",
      "Socratic philosophe rs like Thales rejected non-naturalistic explanations for natural phenomena and\n",
      "proclaimed that every event had a natural cause.[14] They proposed ideas verified by reason and\n",
      "observation, and many of their hypot heses proved successful in experiment;[15] for example, atomism was\n",
      "found to be correct approximately 2000 years after it was proposed by Leucippus and his pupil\n",
      "Democritus.[16]\n",
      "The Western Roman Empire fell in the fifth century, and this resulted in a decline in intellectual pursuits in\n",
      "the western part of Europe. By contrast, the Eastern Roman Empire (also know n as the Byzantine Empire)\n",
      "resisted the attacks from the barbarians, and continued to advance various fields of learning, including\n",
      "physics.[17]\n",
      "In the sixth century, Isidore of Miletus created an important compilation of Archimedes' works that are\n",
      "copied in the Archimedes Palimpsest.\n",
      "In sixth-century Europe John Philoponus , a Byzantine scholar, questioned\n",
      "Aristotle's teaching of physics and noted its flaws. He introduc ed the\n",
      "theory of impetus. Aristotle's physics was not scrutinized until Philoponus\n",
      "appeared; unlike Aristotle, who based his physics on verbal argument,\n",
      "Philoponus  relied on obs ervation. O n Aristotle's phys ics Philoponus  wrote:\n",
      "But this is completely erroneous, and our view may be\n",
      "corroborated by actual observation more effectively than by\n",
      "any sort of verbal argument. For if you let fall from the same\n",
      "height two weights of which one is many times as heavy as\n",
      "the other, you will see that the ratio of the times required for\n",
      "the motion does not depend on the ratio of the weights, but\n",
      "that the difference in time is a very small one. And so, if the\n",
      "difference in the weights is not considerable, that is, of one is,\n",
      "let us say, doubl e the other, there will be no difference, or else\n",
      "an imperceptible difference, in time, though the difference in\n",
      "weight is by no means negligible, with one body weighing\n",
      "twice as much as the other[19]\n",
      "Philoponus ' criticism of Aristotelian principles of physics served as an inspiration for Galileo Galilei ten\n",
      "centuries later,[20] during the Scientific Revolution. Galileo cited Philoponus  substantially in his works\n",
      "when arguing that Aristotelian physics was flawed.[21][22] In the 1300s  Jean Buridan, a teacher in the\n",
      "faculty of arts at the University of Paris, developed the concept of impetus. It was a step toward the modern\n",
      "ideas of inertia and m omentum.[23]\n",
      "Islamic scholarship inherited Aristotelian physics from the Greeks and during the Islamic Golden Age\n",
      "developed it further, especially placing emphasis on observation and a priori reasoning, developing early\n",
      "forms of the scientific method.\n",
      "The most notable innova tions were in the field of optics and vision, which came from the works of many\n",
      "scientists like Ibn Sahl, Al-Kindi, Ibn al-Haytham, Al-Farisi and Avicenna. The most notable work was\n",
      "The Book of Optics (also know n as Kitāb al-Manā ẓ ir), written by Ibn al-Haytham, in which he\n",
      "conclusively disproved the ancient Greek idea about vision, but also came up with a new theory. In theMedieval European and Islamic\n"
     ]
    }
   ],
   "source": [
    "print(Physics.pages[2].extract_text())"
   ]
  },
  {
   "cell_type": "code",
   "execution_count": 17,
   "metadata": {},
   "outputs": [],
   "source": [
    "with open(\"ExtractedText.txt\", \"a+\", encoding = \"utf-8\") as file:\n",
    "    file.write(f\"{Physics.pages[2].extract_text()}\")"
   ]
  },
  {
   "cell_type": "code",
   "execution_count": 16,
   "metadata": {},
   "outputs": [
    {
     "name": "stdout",
     "output_type": "stream",
     "text": [
      "ā\n"
     ]
    }
   ],
   "source": [
    "print('\\u0101')"
   ]
  },
  {
   "cell_type": "code",
   "execution_count": 18,
   "metadata": {},
   "outputs": [],
   "source": [
    "ArtificicalIntelligence = PdfReader(\"الذكاء الاصطناعى مقالة مفصلة.pdf\")"
   ]
  },
  {
   "cell_type": "code",
   "execution_count": 20,
   "metadata": {},
   "outputs": [
    {
     "data": {
      "text/plain": [
       "'الذكاء االصطناعى مقالة مفصلة  \\nعلى الرغم من حصر الذكاء االصطناعى فى افالم السينما على صورة الروبوتات الشبيهة باإلنسان فى سلوكها وشكلها اال أن الحقيقة تختلف عن \\nذلك فمن محركات بحث جوجل وخوارزميات فيسبوك تعتبر كل هذه امثلة حية على الذكاء االصطناعى  \\nالذكاء االصطناعى هو ذلك العلم الذى يهتم بإنشاء االالت او برامج قدارة على محاكاة ذكاء البشر من حيث اتخاذ القرار والتعلم من األخطاء \\nوالخبرات واالستنتاج ورد الفعل فى مواقف لم تبرمج للتعامل معها وغيرها من مظاهر ذكاء البشر التى كانت حكر على االنسان لعقود  \\nفبالرغم من سرعة الحاسب العالية فى اجراء الحسابات المعقدة فإنه يفتقر لكثير من ذكاء البشر أهمها التعلم من  Machine Learning  التجارب\\nالسابقة وهذا ما تحاول فعله فروع مثل تعليم اآللة أو  \\nفى العقد االخير ازدات األبحاث المرتبطة بالذكاء االصطناعي وأصبح الذكاء االصطناعى من أهم فروع مجال تقنية المعلومات وأبرز أمثلة \\nوتطبيقات الذكاء االصطناعي معالجة اللغة الطبيعية (لغات االنسان) ، التعرف على الصوت ، و التحليل الطبي ، تداول األسهم فى البورصة ، \\nالتحكم اآللي ، القانون ، االكتشافات العلمية ، ألعاب الفيديو وغيرها الكثير من التطبيقات  \\nتاريخ الذكاء االصطناعي  \\nترجع فكرة الذكاء االصطناعى إلى العصور القديمة . فقد اهتم الكثير من الفالسفة بمفهوم الذكاء االصطناعى منذ اكثر من 2000  عام وحاول\\nاالنسان فهم الحواس التى تميز االنسان مثل النظر والتفكير والتعلم والذاكرة وغيرها وحاول بناء اآلالت تتسم بقدر من هذه الصفات لمساعد ته فى \\nحياته اليومية.  \\nصاغ مصطلح الذكاء االصطناعى باالساس العالم االمريكى جون مكارثي عام 1956  وقام بتعريفه على أنه علم صنع اآلالت الذكية, وفي أوائل\\nالثمانينات، شهدت أبحاث الذكاء االصطناعي صحوة جديدة من خالل النجاح التجاري لما يعرف بالنظم الخبيرة و هي أحد برامج الذكاء  \\nاالصطناعي التي تحاكي المعرفة والمهارات التحليلية لواحد أو أكثر من الخبراء البشريين فى مجال معين.و بحلول عام 1985  وصلت أرباح\\nأبحاث الذكاء االصطناعي في السوق إلى أكثر من مليار دوالر، وبدأت الحكومات تمويل مشاريع الذكاء االصطناعى من جديد وبعد سنوات قليلة،  \\nفي عام 1987 ، شهدت أبحاث الذكاء االصطناعي انتكاسة أخرى ولكن أطول  \\nفي التسعينات وأوائل االلفية الثالثة حقق الذكاء االصطناعي نجاحات أكبر، يستخدم الذكاء االصطناعي في استخراج البيانات او  D ، والتشخيص\\nالطبي والعديد من االستخدامات االخرى فى مجال تقنية المعلومات. يرجع ذلك النجاح إلى عدة عوامل أهمها القدرة الكبيرة للحواسيب هذه االيام  \\nمثل الحواسيب الخارقة او.  \\nتطبيقات الذكاء االصطناعى  \\nمن االمثلة الشهيرة على تطبيقات الذكاء االصطناعى هو ابتكار IBM  لحاسوب Deep Blue  الذى تمكن فى عام1997 من هزيمة بطل العالم  \\nواسطورة الشطرنج غارى كاسباروف وقد استعان مطورى شركة IBM .ببعض نظريات الذكاء االصطناعى فى برمجة هذا الكمبيوتر \\nوفى المجال الطبى تكثر استخدامات الذكاء االصطناعى فى بعض التطبيقات التى تساعد المريض على تشخيص االمراض للمريض ووصف  \\nالدواء له ومتابعة حالته  \\nومن اشهر امثلة استخدام محركات البحث حاليًا هو محرك بحث جوجل حيث يستخدم جوجل الذكاء االصطناعى فى فهم عبارات البحث من \\nالمستخدم وتحديد ماذا يريد المستخدم تحديدًا عن طريق الجملة التى كتبها فى صندوق البحث وكذلك يستخدم جوجل خوارزميات تعليم االلة فى  \\nترتيب نتائج البحث للمستخدم على حسب مدى تطابق نتائج البحث لم يبحث عنه المستخدم فعالً وكذلك على حسب قوة المحتوي  \\nشركة فيسبوك ايضًا لها باع طويل فى استخدام الذكاء االصطناعى حيث يقوم فيسبوك بجمع بيانات عن المستخدمين للتطبيق مثل مايحب ومااليحب  \\nالمستخدم ويستخدم هذه البيانات فى اظهار اعالنات مناسبة للشخص. \\nمع تحميل 1.2  مليار شخص136000  صورة ونشر حالتهم293000  مرة في الدقيقة مع هذا الكم الهائل من البيانات غير المرتبة وغير المهيكلة\\nال تستطيع الخوارزميات التقليدية التعامل معها فيلجاء فيسبوك الى خوارزميات الذكاء االصطناعى. \\nباالضافة إلى ذلك يستثمر فيسبوك فى ابحاث التعرف على الصور والتعرف على االخبار الكاذبة وغيرها من التحليالت الضرورية لفيسبوك لكى \\nيستمر. '"
      ]
     },
     "execution_count": 20,
     "metadata": {},
     "output_type": "execute_result"
    }
   ],
   "source": [
    "ArtificicalIntelligence.pages[0].extract_text()"
   ]
  },
  {
   "cell_type": "code",
   "execution_count": 21,
   "metadata": {},
   "outputs": [
    {
     "name": "stdout",
     "output_type": "stream",
     "text": [
      "الذكاء االصطناعى مقالة مفصلة  \n",
      "على الرغم من حصر الذكاء االصطناعى فى افالم السينما على صورة الروبوتات الشبيهة باإلنسان فى سلوكها وشكلها اال أن الحقيقة تختلف عن \n",
      "ذلك فمن محركات بحث جوجل وخوارزميات فيسبوك تعتبر كل هذه امثلة حية على الذكاء االصطناعى  \n",
      "الذكاء االصطناعى هو ذلك العلم الذى يهتم بإنشاء االالت او برامج قدارة على محاكاة ذكاء البشر من حيث اتخاذ القرار والتعلم من األخطاء \n",
      "والخبرات واالستنتاج ورد الفعل فى مواقف لم تبرمج للتعامل معها وغيرها من مظاهر ذكاء البشر التى كانت حكر على االنسان لعقود  \n",
      "فبالرغم من سرعة الحاسب العالية فى اجراء الحسابات المعقدة فإنه يفتقر لكثير من ذكاء البشر أهمها التعلم من  Machine Learning  التجارب\n",
      "السابقة وهذا ما تحاول فعله فروع مثل تعليم اآللة أو  \n",
      "فى العقد االخير ازدات األبحاث المرتبطة بالذكاء االصطناعي وأصبح الذكاء االصطناعى من أهم فروع مجال تقنية المعلومات وأبرز أمثلة \n",
      "وتطبيقات الذكاء االصطناعي معالجة اللغة الطبيعية (لغات االنسان) ، التعرف على الصوت ، و التحليل الطبي ، تداول األسهم فى البورصة ، \n",
      "التحكم اآللي ، القانون ، االكتشافات العلمية ، ألعاب الفيديو وغيرها الكثير من التطبيقات  \n",
      "تاريخ الذكاء االصطناعي  \n",
      "ترجع فكرة الذكاء االصطناعى إلى العصور القديمة . فقد اهتم الكثير من الفالسفة بمفهوم الذكاء االصطناعى منذ اكثر من 2000  عام وحاول\n",
      "االنسان فهم الحواس التى تميز االنسان مثل النظر والتفكير والتعلم والذاكرة وغيرها وحاول بناء اآلالت تتسم بقدر من هذه الصفات لمساعد ته فى \n",
      "حياته اليومية.  \n",
      "صاغ مصطلح الذكاء االصطناعى باالساس العالم االمريكى جون مكارثي عام 1956  وقام بتعريفه على أنه علم صنع اآلالت الذكية, وفي أوائل\n",
      "الثمانينات، شهدت أبحاث الذكاء االصطناعي صحوة جديدة من خالل النجاح التجاري لما يعرف بالنظم الخبيرة و هي أحد برامج الذكاء  \n",
      "االصطناعي التي تحاكي المعرفة والمهارات التحليلية لواحد أو أكثر من الخبراء البشريين فى مجال معين.و بحلول عام 1985  وصلت أرباح\n",
      "أبحاث الذكاء االصطناعي في السوق إلى أكثر من مليار دوالر، وبدأت الحكومات تمويل مشاريع الذكاء االصطناعى من جديد وبعد سنوات قليلة،  \n",
      "في عام 1987 ، شهدت أبحاث الذكاء االصطناعي انتكاسة أخرى ولكن أطول  \n",
      "في التسعينات وأوائل االلفية الثالثة حقق الذكاء االصطناعي نجاحات أكبر، يستخدم الذكاء االصطناعي في استخراج البيانات او  D ، والتشخيص\n",
      "الطبي والعديد من االستخدامات االخرى فى مجال تقنية المعلومات. يرجع ذلك النجاح إلى عدة عوامل أهمها القدرة الكبيرة للحواسيب هذه االيام  \n",
      "مثل الحواسيب الخارقة او.  \n",
      "تطبيقات الذكاء االصطناعى  \n",
      "من االمثلة الشهيرة على تطبيقات الذكاء االصطناعى هو ابتكار IBM  لحاسوب Deep Blue  الذى تمكن فى عام1997 من هزيمة بطل العالم  \n",
      "واسطورة الشطرنج غارى كاسباروف وقد استعان مطورى شركة IBM .ببعض نظريات الذكاء االصطناعى فى برمجة هذا الكمبيوتر \n",
      "وفى المجال الطبى تكثر استخدامات الذكاء االصطناعى فى بعض التطبيقات التى تساعد المريض على تشخيص االمراض للمريض ووصف  \n",
      "الدواء له ومتابعة حالته  \n",
      "ومن اشهر امثلة استخدام محركات البحث حاليًا هو محرك بحث جوجل حيث يستخدم جوجل الذكاء االصطناعى فى فهم عبارات البحث من \n",
      "المستخدم وتحديد ماذا يريد المستخدم تحديدًا عن طريق الجملة التى كتبها فى صندوق البحث وكذلك يستخدم جوجل خوارزميات تعليم االلة فى  \n",
      "ترتيب نتائج البحث للمستخدم على حسب مدى تطابق نتائج البحث لم يبحث عنه المستخدم فعالً وكذلك على حسب قوة المحتوي  \n",
      "شركة فيسبوك ايضًا لها باع طويل فى استخدام الذكاء االصطناعى حيث يقوم فيسبوك بجمع بيانات عن المستخدمين للتطبيق مثل مايحب ومااليحب  \n",
      "المستخدم ويستخدم هذه البيانات فى اظهار اعالنات مناسبة للشخص. \n",
      "مع تحميل 1.2  مليار شخص136000  صورة ونشر حالتهم293000  مرة في الدقيقة مع هذا الكم الهائل من البيانات غير المرتبة وغير المهيكلة\n",
      "ال تستطيع الخوارزميات التقليدية التعامل معها فيلجاء فيسبوك الى خوارزميات الذكاء االصطناعى. \n",
      "باالضافة إلى ذلك يستثمر فيسبوك فى ابحاث التعرف على الصور والتعرف على االخبار الكاذبة وغيرها من التحليالت الضرورية لفيسبوك لكى \n",
      "يستمر. \n"
     ]
    }
   ],
   "source": [
    "print(ArtificicalIntelligence.pages[0].extract_text())"
   ]
  },
  {
   "cell_type": "code",
   "execution_count": 28,
   "metadata": {},
   "outputs": [],
   "source": [
    "with open(\"Ai1.docx\", \"a+\", encoding=\"utf-8\") as file:\n",
    "    file.write(f\"{ArtificicalIntelligence.pages[1].extract_text()}\")"
   ]
  },
  {
   "cell_type": "code",
   "execution_count": 26,
   "metadata": {},
   "outputs": [
    {
     "data": {
      "text/plain": [
       "2"
      ]
     },
     "execution_count": 26,
     "metadata": {},
     "output_type": "execute_result"
    }
   ],
   "source": [
    "len(ArtificicalIntelligence.pages)"
   ]
  }
 ],
 "metadata": {
  "kernelspec": {
   "display_name": "Python 3",
   "language": "python",
   "name": "python3"
  },
  "language_info": {
   "codemirror_mode": {
    "name": "ipython",
    "version": 3
   },
   "file_extension": ".py",
   "mimetype": "text/x-python",
   "name": "python",
   "nbconvert_exporter": "python",
   "pygments_lexer": "ipython3",
   "version": "3.7.6"
  }
 },
 "nbformat": 4,
 "nbformat_minor": 4
}
