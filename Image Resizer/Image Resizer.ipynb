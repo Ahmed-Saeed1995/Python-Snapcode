{
 "cells": [
  {
   "cell_type": "code",
   "execution_count": 43,
   "metadata": {},
   "outputs": [],
   "source": [
    "from PIL import Image\n",
    "\n",
    "image = Image.open('Windows.jpg')"
   ]
  },
  {
   "cell_type": "code",
   "execution_count": 44,
   "metadata": {},
   "outputs": [
    {
     "name": "stdout",
     "output_type": "stream",
     "text": [
      "Image format:  JPEG\n",
      "Image size:  (3840, 2160)\n",
      "Image mode:  RGB\n"
     ]
    }
   ],
   "source": [
    "print(\"Image format: \", image.format)\n",
    "print(\"Image size: \", image.size)\n",
    "print(\"Image mode: \", image.mode)"
   ]
  },
  {
   "cell_type": "code",
   "execution_count": 45,
   "metadata": {},
   "outputs": [
    {
     "name": "stdout",
     "output_type": "stream",
     "text": [
      "Image format:  JPEG\n",
      "Image size:  (3840, 2160)\n",
      "Image mode:  RGB\n"
     ]
    }
   ],
   "source": [
    "def Show_image_details(ImagePath):\n",
    "    image = Image.open(ImagePath)\n",
    "    print(\"Image format: \", image.format)\n",
    "    print(\"Image size: \", image.size)\n",
    "    print(\"Image mode: \", image.mode)\n",
    "    \n",
    "Show_image_details('Windows.jpg')"
   ]
  },
  {
   "cell_type": "code",
   "execution_count": 62,
   "metadata": {},
   "outputs": [
    {
     "data": {
      "text/plain": [
       "0.26"
      ]
     },
     "execution_count": 62,
     "metadata": {},
     "output_type": "execute_result"
    }
   ],
   "source": [
    "basewidth = 1000\n",
    "\n",
    "HeightPercent = round(basewidth / image.size[0], 3)\n",
    "HeightPercent"
   ]
  },
  {
   "cell_type": "code",
   "execution_count": 64,
   "metadata": {},
   "outputs": [
    {
     "data": {
      "text/plain": [
       "561"
      ]
     },
     "execution_count": 64,
     "metadata": {},
     "output_type": "execute_result"
    }
   ],
   "source": [
    "int(image.size[1] * HeightPercent)"
   ]
  },
  {
   "cell_type": "code",
   "execution_count": 76,
   "metadata": {},
   "outputs": [],
   "source": [
    "def ResizedImage(ImagePath, width):\n",
    "    image = Image.open(ImagePath)\n",
    "    \n",
    "    HeightPercent = width / image.size[0]\n",
    "    hsize = int(image.size[1] * HeightPercent)\n",
    "    \n",
    "    resized_image = image.resize((width, hsize))\n",
    "    resized_image.save(\"resized_image.png\")"
   ]
  },
  {
   "cell_type": "code",
   "execution_count": 77,
   "metadata": {},
   "outputs": [],
   "source": [
    "ResizedImage('Windows.jpg', 1500)"
   ]
  },
  {
   "cell_type": "code",
   "execution_count": 78,
   "metadata": {},
   "outputs": [],
   "source": [
    "resized =  Image.open('resized_image.png')"
   ]
  },
  {
   "cell_type": "code",
   "execution_count": 79,
   "metadata": {},
   "outputs": [
    {
     "data": {
      "text/plain": [
       "(500, 281)"
      ]
     },
     "execution_count": 79,
     "metadata": {},
     "output_type": "execute_result"
    }
   ],
   "source": [
    "resized.size"
   ]
  },
  {
   "cell_type": "code",
   "execution_count": null,
   "metadata": {},
   "outputs": [],
   "source": []
  }
 ],
 "metadata": {
  "kernelspec": {
   "display_name": "Python 3",
   "language": "python",
   "name": "python3"
  },
  "language_info": {
   "codemirror_mode": {
    "name": "ipython",
    "version": 3
   },
   "file_extension": ".py",
   "mimetype": "text/x-python",
   "name": "python",
   "nbconvert_exporter": "python",
   "pygments_lexer": "ipython3",
   "version": "3.7.6"
  }
 },
 "nbformat": 4,
 "nbformat_minor": 4
}
