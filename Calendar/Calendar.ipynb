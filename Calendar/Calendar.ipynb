{
 "cells": [
  {
   "cell_type": "code",
   "execution_count": 1,
   "metadata": {},
   "outputs": [],
   "source": [
    "import calendar"
   ]
  },
  {
   "cell_type": "code",
   "execution_count": 2,
   "metadata": {},
   "outputs": [
    {
     "data": {
      "text/plain": [
       "<calendar.Calendar at 0x1f18a278348>"
      ]
     },
     "execution_count": 2,
     "metadata": {},
     "output_type": "execute_result"
    }
   ],
   "source": [
    "calendar.Calendar()"
   ]
  },
  {
   "cell_type": "code",
   "execution_count": 4,
   "metadata": {},
   "outputs": [
    {
     "data": {
      "text/plain": [
       "datetime.datetime(2023, 10, 11, 17, 20, 47, 985046)"
      ]
     },
     "execution_count": 4,
     "metadata": {},
     "output_type": "execute_result"
    }
   ],
   "source": [
    "calendar.datetime.datetime.now()"
   ]
  },
  {
   "cell_type": "code",
   "execution_count": 11,
   "metadata": {},
   "outputs": [
    {
     "data": {
      "text/plain": [
       "11"
      ]
     },
     "execution_count": 11,
     "metadata": {},
     "output_type": "execute_result"
    }
   ],
   "source": [
    "year = calendar.datetime.datetime.now().year\n",
    "month = calendar.datetime.datetime.now().month\n",
    "day = calendar.datetime.datetime.now().day\n",
    "day"
   ]
  },
  {
   "cell_type": "code",
   "execution_count": 17,
   "metadata": {},
   "outputs": [
    {
     "name": "stdout",
     "output_type": "stream",
     "text": [
      "    October 2023\n",
      "\n",
      "Mo Tu We Th Fr Sa Su\n",
      "\n",
      "                   1\n",
      "\n",
      " 2  3  4  5  6  7  8\n",
      "\n",
      " 9 10 11 12 13 14 15\n",
      "\n",
      "16 17 18 19 20 21 22\n",
      "\n",
      "23 24 25 26 27 28 29\n",
      "\n",
      "30 31\n",
      "\n",
      "\n"
     ]
    }
   ],
   "source": [
    "print(calendar.month(year, month, w =2, l=2))"
   ]
  },
  {
   "cell_type": "code",
   "execution_count": 18,
   "metadata": {},
   "outputs": [
    {
     "name": "stdout",
     "output_type": "stream",
     "text": [
      "                                    October 2023\n",
      "   Monday     Tuesday    Wednesday    Thursday     Friday     Saturday     Sunday\n",
      "                                                                              1\n",
      "      2           3           4           5           6           7           8\n",
      "      9          10          11          12          13          14          15\n",
      "     16          17          18          19          20          21          22\n",
      "     23          24          25          26          27          28          29\n",
      "     30          31\n",
      "\n"
     ]
    }
   ],
   "source": [
    "print(calendar.month(year, month, day))"
   ]
  },
  {
   "cell_type": "code",
   "execution_count": 22,
   "metadata": {},
   "outputs": [
    {
     "name": "stdout",
     "output_type": "stream",
     "text": [
      "    October 2023\n",
      "Mo Tu We Th Fr Sa Su\n",
      "                   1\n",
      " 2  3  4  5  6  7  8\n",
      " 9 10 11 12 13 14 15\n",
      "16 17 18 19 20 21 22\n",
      "23 24 25 26 27 28 29\n",
      "30 31\n",
      "\n"
     ]
    }
   ],
   "source": [
    "weekday = calendar.datetime.datetime.now().weekday()\n",
    "print(calendar.month(year, month, weekday))"
   ]
  },
  {
   "cell_type": "code",
   "execution_count": null,
   "metadata": {},
   "outputs": [],
   "source": []
  }
 ],
 "metadata": {
  "kernelspec": {
   "display_name": "Python 3",
   "language": "python",
   "name": "python3"
  },
  "language_info": {
   "codemirror_mode": {
    "name": "ipython",
    "version": 3
   },
   "file_extension": ".py",
   "mimetype": "text/x-python",
   "name": "python",
   "nbconvert_exporter": "python",
   "pygments_lexer": "ipython3",
   "version": "3.7.6"
  }
 },
 "nbformat": 4,
 "nbformat_minor": 4
}
