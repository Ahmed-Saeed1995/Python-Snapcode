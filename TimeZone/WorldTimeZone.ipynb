{
 "cells": [
  {
   "cell_type": "code",
   "execution_count": 3,
   "metadata": {},
   "outputs": [],
   "source": [
    "from datetime import datetime\n",
    "\n",
    "now = datetime.now()"
   ]
  },
  {
   "cell_type": "code",
   "execution_count": 8,
   "metadata": {},
   "outputs": [
    {
     "name": "stdout",
     "output_type": "stream",
     "text": [
      "Egypt Daylight Time\n"
     ]
    }
   ],
   "source": [
    "print(now.astimezone().tzinfo)"
   ]
  },
  {
   "cell_type": "code",
   "execution_count": 9,
   "metadata": {},
   "outputs": [],
   "source": [
    "import pytz"
   ]
  },
  {
   "cell_type": "code",
   "execution_count": null,
   "metadata": {},
   "outputs": [],
   "source": [
    "\n",
    "\n",
    "for zone in time_zones:\n",
    "    print(zone)"
   ]
  },
  {
   "cell_type": "code",
   "execution_count": 13,
   "metadata": {},
   "outputs": [
    {
     "data": {
      "text/plain": [
       "592"
      ]
     },
     "execution_count": 13,
     "metadata": {},
     "output_type": "execute_result"
    }
   ],
   "source": [
    "len(time_zones)"
   ]
  },
  {
   "cell_type": "code",
   "execution_count": null,
   "metadata": {},
   "outputs": [],
   "source": [
    "time_zones = pytz.all_timezones\n",
    "UTCTIME = datetime.now(pytz.utc)\n",
    "\n",
    "for zone in time_zones:\n",
    "    LocalTime = UTCTIME.astimezone(pytz.timezone(zone))\n",
    "    \n",
    "    print(zone, LocalTime.strftime(\"%Y-%m-%d %H:%M:%S\"))"
   ]
  },
  {
   "cell_type": "code",
   "execution_count": 28,
   "metadata": {},
   "outputs": [
    {
     "name": "stdout",
     "output_type": "stream",
     "text": [
      "Africa/Cairo 2023-10-11 14:31:44\n",
      "Africa/Cairo 2023-10-11 14:35:12\n",
      "Africa/Cairo 2023-10-11 16:07:00\n"
     ]
    }
   ],
   "source": [
    "print('Africa/Cairo 2023-10-11 14:31:44')\n",
    "print('Africa/Cairo 2023-10-11 14:35:12')\n",
    "print('Africa/Cairo 2023-10-11 16:07:00')"
   ]
  },
  {
   "cell_type": "code",
   "execution_count": 27,
   "metadata": {},
   "outputs": [
    {
     "name": "stdout",
     "output_type": "stream",
     "text": [
      "Egypt 2023-10-11 14:31:44\n",
      "Egypt 2023-10-11 14:35:12\n",
      "Egypt 2023-10-11 16:07:00\n"
     ]
    }
   ],
   "source": [
    "print('Egypt 2023-10-11 14:31:44')\n",
    "print('Egypt 2023-10-11 14:35:12')\n",
    "print('Egypt 2023-10-11 16:07:00')"
   ]
  },
  {
   "cell_type": "code",
   "execution_count": null,
   "metadata": {},
   "outputs": [],
   "source": []
  }
 ],
 "metadata": {
  "kernelspec": {
   "display_name": "Python 3",
   "language": "python",
   "name": "python3"
  },
  "language_info": {
   "codemirror_mode": {
    "name": "ipython",
    "version": 3
   },
   "file_extension": ".py",
   "mimetype": "text/x-python",
   "name": "python",
   "nbconvert_exporter": "python",
   "pygments_lexer": "ipython3",
   "version": "3.7.6"
  }
 },
 "nbformat": 4,
 "nbformat_minor": 4
}
